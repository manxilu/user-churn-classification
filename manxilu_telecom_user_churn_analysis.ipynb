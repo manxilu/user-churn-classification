{
 "cells": [
  {
   "cell_type": "markdown",
   "metadata": {},
   "source": [
    "# User Churn Prediction"
   ]
  },
  {
   "cell_type": "markdown",
   "metadata": {},
   "source": [
    "In this project, we use supervised learning models to identify customers who are likely to stop using service in the future. Furthermore, we will analyze top factors that influence user retention."
   ]
  },
  {
   "cell_type": "markdown",
   "metadata": {},
   "source": [
    "## Contents"
   ]
  },
  {
   "cell_type": "markdown",
   "metadata": {},
   "source": [
    "<ul>\n",
    "<li>[Part 1: Data Exploration](#Part-1:-Data-Exploration)\n",
    "<li>[Part 2: Feature Preprocessing](#Part-2:-Feature-Preprocessing)\n",
    "<li>[Part 3: Model Training and Results Evaluation](#Part-3:-Model-Training-and-Result-Evaluation)\n",
    "<li>[Part 4: Feature Selection](#Part-4:-Feature-Selection)\n",
    "<li>[Part 5: Use Probabilities as Prediction Results](#Part-5:-Use-Probabilities-as-Prediction-Results)\n",
    "</ul>"
   ]
  },
  {
   "cell_type": "markdown",
   "metadata": {},
   "source": [
    "# Part 1: Data Exploration"
   ]
  },
  {
   "cell_type": "markdown",
   "metadata": {},
   "source": [
    "### Part 1.1: Understand the Raw Dataset"
   ]
  },
  {
   "cell_type": "markdown",
   "metadata": {},
   "source": [
    "<ul>\n",
    "<li>Data Source: https://www.sgi.com/tech/mlc/db/churn.all\n",
    "<li>Data info: https://www.sgi.com/tech/mlc/db/churn.names\n",
    "</ul>\n"
   ]
  },
  {
   "cell_type": "code",
   "execution_count": 1,
   "metadata": {},
   "outputs": [
    {
     "name": "stdout",
     "output_type": "stream",
     "text": [
      "  state  account_length  area_code phone_number intl_plan voice_mail_plan  \\\n",
      "0    KS             128        415     382-4657        no             yes   \n",
      "1    OH             107        415     371-7191        no             yes   \n",
      "2    NJ             137        415     358-1921        no              no   \n",
      "3    OH              84        408     375-9999       yes              no   \n",
      "4    OK              75        415     330-6626       yes              no   \n",
      "\n",
      "   number_vmail_messages  total_day_minutes  total_day_calls  \\\n",
      "0                     25              265.1              110   \n",
      "1                     26              161.6              123   \n",
      "2                      0              243.4              114   \n",
      "3                      0              299.4               71   \n",
      "4                      0              166.7              113   \n",
      "\n",
      "   total_day_charge  total_eve_minutes  total_eve_calls  total_eve_charge  \\\n",
      "0             45.07              197.4               99             16.78   \n",
      "1             27.47              195.5              103             16.62   \n",
      "2             41.38              121.2              110             10.30   \n",
      "3             50.90               61.9               88              5.26   \n",
      "4             28.34              148.3              122             12.61   \n",
      "\n",
      "   total_night_minutes  total_night_calls  total_night_charge  \\\n",
      "0                244.7                 91               11.01   \n",
      "1                254.4                103               11.45   \n",
      "2                162.6                104                7.32   \n",
      "3                196.9                 89                8.86   \n",
      "4                186.9                121                8.41   \n",
      "\n",
      "   total_intl_minutes  total_intl_calls  total_intl_charge  \\\n",
      "0                10.0                 3               2.70   \n",
      "1                13.7                 3               3.70   \n",
      "2                12.2                 5               3.29   \n",
      "3                 6.6                 7               1.78   \n",
      "4                10.1                 3               2.73   \n",
      "\n",
      "   number_customer_service_calls  churned  \n",
      "0                              1   False.  \n",
      "1                              1   False.  \n",
      "2                              0   False.  \n",
      "3                              2   False.  \n",
      "4                              3   False.  \n",
      "<class 'pandas.core.frame.DataFrame'>\n",
      "RangeIndex: 5000 entries, 0 to 4999\n",
      "Data columns (total 21 columns):\n",
      "state                            5000 non-null object\n",
      "account_length                   5000 non-null int64\n",
      "area_code                        5000 non-null int64\n",
      "phone_number                     5000 non-null object\n",
      "intl_plan                        5000 non-null object\n",
      "voice_mail_plan                  5000 non-null object\n",
      "number_vmail_messages            5000 non-null int64\n",
      "total_day_minutes                5000 non-null float64\n",
      "total_day_calls                  5000 non-null int64\n",
      "total_day_charge                 5000 non-null float64\n",
      "total_eve_minutes                5000 non-null float64\n",
      "total_eve_calls                  5000 non-null int64\n",
      "total_eve_charge                 5000 non-null float64\n",
      "total_night_minutes              5000 non-null float64\n",
      "total_night_calls                5000 non-null int64\n",
      "total_night_charge               5000 non-null float64\n",
      "total_intl_minutes               5000 non-null float64\n",
      "total_intl_calls                 5000 non-null int64\n",
      "total_intl_charge                5000 non-null float64\n",
      "number_customer_service_calls    5000 non-null int64\n",
      "churned                          5000 non-null object\n",
      "dtypes: float64(8), int64(8), object(5)\n",
      "memory usage: 820.4+ KB\n",
      "None\n"
     ]
    }
   ],
   "source": [
    "import warnings\n",
    "warnings.filterwarnings('ignore')\n",
    "\n",
    "import pandas as pd\n",
    "import numpy as np\n",
    "pd.set_option('display.max_columns', None)\n",
    "\n",
    "churn_df = pd.read_csv('data/churn.all')\n",
    "print churn_df.head()\n",
    "print churn_df.info()"
   ]
  },
  {
   "cell_type": "code",
   "execution_count": 2,
   "metadata": {},
   "outputs": [
    {
     "data": {
      "text/plain": [
       " False.    4293\n",
       " True.      707\n",
       "Name: churned, dtype: int64"
      ]
     },
     "execution_count": 2,
     "metadata": {},
     "output_type": "execute_result"
    }
   ],
   "source": [
    "# check if data is inbalanced for classification problem\n",
    "churn_df.churned.value_counts()"
   ]
  },
  {
   "cell_type": "code",
   "execution_count": 3,
   "metadata": {},
   "outputs": [
    {
     "name": "stdout",
     "output_type": "stream",
     "text": [
      "WV    158\n",
      "MN    125\n",
      "AL    124\n",
      "ID    119\n",
      "VA    118\n",
      "OH    116\n",
      "TX    116\n",
      "WY    115\n",
      "NY    114\n",
      "OR    114\n",
      "NJ    112\n",
      "UT    112\n",
      "WI    106\n",
      "ME    103\n",
      "MA    103\n",
      "MI    103\n",
      "MD    102\n",
      "VT    101\n",
      "KY     99\n",
      "KS     99\n",
      "CT     99\n",
      "MT     99\n",
      "MS     99\n",
      "RI     99\n",
      "WA     98\n",
      "IN     98\n",
      "CO     96\n",
      "NH     95\n",
      "DE     94\n",
      "MO     93\n",
      "AR     92\n",
      "NM     91\n",
      "SC     91\n",
      "NC     91\n",
      "FL     90\n",
      "NV     90\n",
      "OK     90\n",
      "AZ     89\n",
      "TN     89\n",
      "IL     88\n",
      "DC     88\n",
      "NE     88\n",
      "ND     88\n",
      "HI     86\n",
      "SD     85\n",
      "GA     83\n",
      "LA     82\n",
      "PA     77\n",
      "AK     72\n",
      "IA     69\n",
      "CA     52\n",
      "Name: state, dtype: int64\n",
      "415    2495\n",
      "408    1259\n",
      "510    1246\n",
      "Name: area_code, dtype: int64\n"
     ]
    }
   ],
   "source": [
    "# check two related features\n",
    "print churn_df.state.value_counts()\n",
    "print churn_df.area_code.value_counts()"
   ]
  },
  {
   "cell_type": "markdown",
   "metadata": {},
   "source": [
    "* In quick scan, there is no missing value but data is inbalanced;\n",
    "* area code is associated with state, but it might be different. This factor only contains three areas probably because data is only collected from the three local stores, which may cause biased sampling;\n",
    "* phone_number is like userID, except for the case to use phone number to search for speacific person information, in this case it should be ignored\n",
    "* account length are assumed to the total lenght of the user usage\n",
    "* people who don't have voice_mail_plan will not have voice mail message  \n",
    "    % check by churn_df.loc[(churn_df[\"voice_mail_plan\"]==\"no\") &(churn_df[\"number_vmail_messages\"]!=0)]\n",
    "* number_customer_service_calls may be a good feature that affect user experience"
   ]
  },
  {
   "cell_type": "markdown",
   "metadata": {},
   "source": [
    "### Part 1.2: Data cleaning"
   ]
  },
  {
   "cell_type": "code",
   "execution_count": 4,
   "metadata": {},
   "outputs": [
    {
     "data": {
      "text/html": [
       "<div>\n",
       "<style>\n",
       "    .dataframe thead tr:only-child th {\n",
       "        text-align: right;\n",
       "    }\n",
       "\n",
       "    .dataframe thead th {\n",
       "        text-align: left;\n",
       "    }\n",
       "\n",
       "    .dataframe tbody tr th {\n",
       "        vertical-align: top;\n",
       "    }\n",
       "</style>\n",
       "<table border=\"1\" class=\"dataframe\">\n",
       "  <thead>\n",
       "    <tr style=\"text-align: right;\">\n",
       "      <th></th>\n",
       "      <th>account_length</th>\n",
       "      <th>area_code</th>\n",
       "      <th>intl_plan</th>\n",
       "      <th>voice_mail_plan</th>\n",
       "      <th>number_vmail_messages</th>\n",
       "      <th>total_day_minutes</th>\n",
       "      <th>total_day_calls</th>\n",
       "      <th>total_day_charge</th>\n",
       "      <th>total_eve_minutes</th>\n",
       "      <th>total_eve_calls</th>\n",
       "      <th>total_eve_charge</th>\n",
       "      <th>total_night_minutes</th>\n",
       "      <th>total_night_calls</th>\n",
       "      <th>total_night_charge</th>\n",
       "      <th>total_intl_minutes</th>\n",
       "      <th>total_intl_calls</th>\n",
       "      <th>total_intl_charge</th>\n",
       "      <th>number_customer_service_calls</th>\n",
       "    </tr>\n",
       "  </thead>\n",
       "  <tbody>\n",
       "    <tr>\n",
       "      <th>count</th>\n",
       "      <td>5000.00</td>\n",
       "      <td>5000.00</td>\n",
       "      <td>5000.00</td>\n",
       "      <td>5000.00</td>\n",
       "      <td>5000.00</td>\n",
       "      <td>5000.00</td>\n",
       "      <td>5000.00</td>\n",
       "      <td>5000.00</td>\n",
       "      <td>5000.00</td>\n",
       "      <td>5000.00</td>\n",
       "      <td>5000.00</td>\n",
       "      <td>5000.00</td>\n",
       "      <td>5000.00</td>\n",
       "      <td>5000.00</td>\n",
       "      <td>5000.00</td>\n",
       "      <td>5000.00</td>\n",
       "      <td>5000.00</td>\n",
       "      <td>5000.00</td>\n",
       "    </tr>\n",
       "    <tr>\n",
       "      <th>mean</th>\n",
       "      <td>100.26</td>\n",
       "      <td>436.91</td>\n",
       "      <td>0.09</td>\n",
       "      <td>0.26</td>\n",
       "      <td>7.76</td>\n",
       "      <td>180.29</td>\n",
       "      <td>100.03</td>\n",
       "      <td>30.65</td>\n",
       "      <td>200.64</td>\n",
       "      <td>100.19</td>\n",
       "      <td>17.05</td>\n",
       "      <td>200.39</td>\n",
       "      <td>99.92</td>\n",
       "      <td>9.02</td>\n",
       "      <td>10.26</td>\n",
       "      <td>4.44</td>\n",
       "      <td>2.77</td>\n",
       "      <td>1.57</td>\n",
       "    </tr>\n",
       "    <tr>\n",
       "      <th>std</th>\n",
       "      <td>39.69</td>\n",
       "      <td>42.21</td>\n",
       "      <td>0.29</td>\n",
       "      <td>0.44</td>\n",
       "      <td>13.55</td>\n",
       "      <td>53.89</td>\n",
       "      <td>19.83</td>\n",
       "      <td>9.16</td>\n",
       "      <td>50.55</td>\n",
       "      <td>19.83</td>\n",
       "      <td>4.30</td>\n",
       "      <td>50.53</td>\n",
       "      <td>19.96</td>\n",
       "      <td>2.27</td>\n",
       "      <td>2.76</td>\n",
       "      <td>2.46</td>\n",
       "      <td>0.75</td>\n",
       "      <td>1.31</td>\n",
       "    </tr>\n",
       "    <tr>\n",
       "      <th>min</th>\n",
       "      <td>1.00</td>\n",
       "      <td>408.00</td>\n",
       "      <td>0.00</td>\n",
       "      <td>0.00</td>\n",
       "      <td>0.00</td>\n",
       "      <td>0.00</td>\n",
       "      <td>0.00</td>\n",
       "      <td>0.00</td>\n",
       "      <td>0.00</td>\n",
       "      <td>0.00</td>\n",
       "      <td>0.00</td>\n",
       "      <td>0.00</td>\n",
       "      <td>0.00</td>\n",
       "      <td>0.00</td>\n",
       "      <td>0.00</td>\n",
       "      <td>0.00</td>\n",
       "      <td>0.00</td>\n",
       "      <td>0.00</td>\n",
       "    </tr>\n",
       "    <tr>\n",
       "      <th>25%</th>\n",
       "      <td>73.00</td>\n",
       "      <td>408.00</td>\n",
       "      <td>0.00</td>\n",
       "      <td>0.00</td>\n",
       "      <td>0.00</td>\n",
       "      <td>143.70</td>\n",
       "      <td>87.00</td>\n",
       "      <td>24.43</td>\n",
       "      <td>166.38</td>\n",
       "      <td>87.00</td>\n",
       "      <td>14.14</td>\n",
       "      <td>166.90</td>\n",
       "      <td>87.00</td>\n",
       "      <td>7.51</td>\n",
       "      <td>8.50</td>\n",
       "      <td>3.00</td>\n",
       "      <td>2.30</td>\n",
       "      <td>1.00</td>\n",
       "    </tr>\n",
       "    <tr>\n",
       "      <th>50%</th>\n",
       "      <td>100.00</td>\n",
       "      <td>415.00</td>\n",
       "      <td>0.00</td>\n",
       "      <td>0.00</td>\n",
       "      <td>0.00</td>\n",
       "      <td>180.10</td>\n",
       "      <td>100.00</td>\n",
       "      <td>30.62</td>\n",
       "      <td>201.00</td>\n",
       "      <td>100.00</td>\n",
       "      <td>17.09</td>\n",
       "      <td>200.40</td>\n",
       "      <td>100.00</td>\n",
       "      <td>9.02</td>\n",
       "      <td>10.30</td>\n",
       "      <td>4.00</td>\n",
       "      <td>2.78</td>\n",
       "      <td>1.00</td>\n",
       "    </tr>\n",
       "    <tr>\n",
       "      <th>75%</th>\n",
       "      <td>127.00</td>\n",
       "      <td>415.00</td>\n",
       "      <td>0.00</td>\n",
       "      <td>1.00</td>\n",
       "      <td>17.00</td>\n",
       "      <td>216.20</td>\n",
       "      <td>113.00</td>\n",
       "      <td>36.75</td>\n",
       "      <td>234.10</td>\n",
       "      <td>114.00</td>\n",
       "      <td>19.90</td>\n",
       "      <td>234.70</td>\n",
       "      <td>113.00</td>\n",
       "      <td>10.56</td>\n",
       "      <td>12.00</td>\n",
       "      <td>6.00</td>\n",
       "      <td>3.24</td>\n",
       "      <td>2.00</td>\n",
       "    </tr>\n",
       "    <tr>\n",
       "      <th>max</th>\n",
       "      <td>243.00</td>\n",
       "      <td>510.00</td>\n",
       "      <td>1.00</td>\n",
       "      <td>1.00</td>\n",
       "      <td>52.00</td>\n",
       "      <td>351.50</td>\n",
       "      <td>165.00</td>\n",
       "      <td>59.76</td>\n",
       "      <td>363.70</td>\n",
       "      <td>170.00</td>\n",
       "      <td>30.91</td>\n",
       "      <td>395.00</td>\n",
       "      <td>175.00</td>\n",
       "      <td>17.77</td>\n",
       "      <td>20.00</td>\n",
       "      <td>20.00</td>\n",
       "      <td>5.40</td>\n",
       "      <td>9.00</td>\n",
       "    </tr>\n",
       "  </tbody>\n",
       "</table>\n",
       "</div>"
      ],
      "text/plain": [
       "       account_length  area_code  intl_plan  voice_mail_plan  \\\n",
       "count         5000.00    5000.00    5000.00          5000.00   \n",
       "mean           100.26     436.91       0.09             0.26   \n",
       "std             39.69      42.21       0.29             0.44   \n",
       "min              1.00     408.00       0.00             0.00   \n",
       "25%             73.00     408.00       0.00             0.00   \n",
       "50%            100.00     415.00       0.00             0.00   \n",
       "75%            127.00     415.00       0.00             1.00   \n",
       "max            243.00     510.00       1.00             1.00   \n",
       "\n",
       "       number_vmail_messages  total_day_minutes  total_day_calls  \\\n",
       "count                5000.00            5000.00          5000.00   \n",
       "mean                    7.76             180.29           100.03   \n",
       "std                    13.55              53.89            19.83   \n",
       "min                     0.00               0.00             0.00   \n",
       "25%                     0.00             143.70            87.00   \n",
       "50%                     0.00             180.10           100.00   \n",
       "75%                    17.00             216.20           113.00   \n",
       "max                    52.00             351.50           165.00   \n",
       "\n",
       "       total_day_charge  total_eve_minutes  total_eve_calls  total_eve_charge  \\\n",
       "count           5000.00            5000.00          5000.00           5000.00   \n",
       "mean              30.65             200.64           100.19             17.05   \n",
       "std                9.16              50.55            19.83              4.30   \n",
       "min                0.00               0.00             0.00              0.00   \n",
       "25%               24.43             166.38            87.00             14.14   \n",
       "50%               30.62             201.00           100.00             17.09   \n",
       "75%               36.75             234.10           114.00             19.90   \n",
       "max               59.76             363.70           170.00             30.91   \n",
       "\n",
       "       total_night_minutes  total_night_calls  total_night_charge  \\\n",
       "count              5000.00            5000.00             5000.00   \n",
       "mean                200.39              99.92                9.02   \n",
       "std                  50.53              19.96                2.27   \n",
       "min                   0.00               0.00                0.00   \n",
       "25%                 166.90              87.00                7.51   \n",
       "50%                 200.40             100.00                9.02   \n",
       "75%                 234.70             113.00               10.56   \n",
       "max                 395.00             175.00               17.77   \n",
       "\n",
       "       total_intl_minutes  total_intl_calls  total_intl_charge  \\\n",
       "count             5000.00           5000.00            5000.00   \n",
       "mean                10.26              4.44               2.77   \n",
       "std                  2.76              2.46               0.75   \n",
       "min                  0.00              0.00               0.00   \n",
       "25%                  8.50              3.00               2.30   \n",
       "50%                 10.30              4.00               2.78   \n",
       "75%                 12.00              6.00               3.24   \n",
       "max                 20.00             20.00               5.40   \n",
       "\n",
       "       number_customer_service_calls  \n",
       "count                        5000.00  \n",
       "mean                            1.57  \n",
       "std                             1.31  \n",
       "min                             0.00  \n",
       "25%                             1.00  \n",
       "50%                             1.00  \n",
       "75%                             2.00  \n",
       "max                             9.00  "
      ]
     },
     "execution_count": 4,
     "metadata": {},
     "output_type": "execute_result"
    }
   ],
   "source": [
    "# plan choice converted to 1,0\n",
    "yes_no_cols = [\"intl_plan\",\"voice_mail_plan\"]\n",
    "churn_df[yes_no_cols] = churn_df[yes_no_cols] == ' yes'\n",
    "churn_df[yes_no_cols] = churn_df[yes_no_cols]*1\n",
    "\n",
    "# churned converted to 1,0\n",
    "churn_df[\"churned\"]=churn_df[\"churned\"].map(lambda x: x.strip())\n",
    "\n",
    "# \"phone_number\" and \"state\" are removed\n",
    "churn_area=churn_df.drop([\"phone_number\",\"state\"],axis=1)\n",
    "churn_state=churn_df.drop([\"phone_number\",\"area_code\"],axis=1)\n",
    "churn_area.describe().round(2)"
   ]
  },
  {
   "cell_type": "markdown",
   "metadata": {},
   "source": [
    "### Part 1.3:  Understand the features"
   ]
  },
  {
   "cell_type": "code",
   "execution_count": 5,
   "metadata": {},
   "outputs": [
    {
     "data": {
      "text/plain": [
       "Text(0,0.5,u'counts')"
      ]
     },
     "execution_count": 5,
     "metadata": {},
     "output_type": "execute_result"
    },
    {
     "data": {
      "image/png": "[encoded data removed]",
      "text/plain": [
       "<matplotlib.figure.Figure at 0x1a10b2d650>"
      ]
     },
     "metadata": {},
     "output_type": "display_data"
    }
   ],
   "source": [
    "%matplotlib inline\n",
    "import matplotlib.pyplot as plt\n",
    "import seaborn as sb\n",
    "\n",
    "churn_415 = churn_area.churned[churn_area.area_code == 415].value_counts()\n",
    "churn_408 = churn_area.churned[churn_area.area_code == 408].value_counts()\n",
    "churn_510 = churn_area.churned[churn_area.area_code == 510].value_counts()\n",
    "\n",
    "df1=pd.DataFrame({u'415':churn_415, u'408':churn_408,\n",
    "                 u'510':churn_510})\n",
    "df1.plot.bar(stacked=True)\n",
    "plt.xlabel(u\"user churned in different area\") \n",
    "plt.ylabel(u\"counts\") "
   ]
  },
  {
   "cell_type": "code",
   "execution_count": 6,
   "metadata": {},
   "outputs": [
    {
     "data": {
      "text/plain": [
       "Text(0,0.5,u'counts')"
      ]
     },
     "execution_count": 6,
     "metadata": {},
     "output_type": "execute_result"
    },
    {
     "data": {
      "image/png": "[encoded data removed]",
      "text/plain": [
       "<matplotlib.figure.Figure at 0x10db06610>"
      ]
     },
     "metadata": {},
     "output_type": "display_data"
    }
   ],
   "source": [
    "churn_0_cs = churn_area.number_customer_service_calls[churn_area.churned==\"False.\"].value_counts()\n",
    "churn_1_cs = churn_area.number_customer_service_calls[churn_area.churned==\"True.\"].value_counts()\n",
    "\n",
    "df2=pd.DataFrame({u'not churned':churn_0_cs, u'churned':churn_1_cs})\n",
    "df2.plot.bar(stacked=True)\n",
    "plt.xlabel(u\"user churned with different number of customer service call\") \n",
    "plt.ylabel(u\"counts\") "
   ]
  },
  {
   "cell_type": "code",
   "execution_count": 7,
   "metadata": {},
   "outputs": [
    {
     "data": {
      "text/plain": [
       "<matplotlib.collections.PathCollection at 0x1a19047bd0>"
      ]
     },
     "execution_count": 7,
     "metadata": {},
     "output_type": "execute_result"
    },
    {
     "data": {
      "image/png": "[encoded data removed]",
      "text/plain": [
       "<matplotlib.figure.Figure at 0x10e1a64d0>"
      ]
     },
     "metadata": {},
     "output_type": "display_data"
    }
   ],
   "source": [
    "plt.scatter(churn_area.churned, churn_area.account_length)"
   ]
  },
  {
   "cell_type": "code",
   "execution_count": 8,
   "metadata": {},
   "outputs": [
    {
     "data": {
      "text/plain": [
       "<matplotlib.axes._subplots.AxesSubplot at 0x10dadb510>"
      ]
     },
     "execution_count": 8,
     "metadata": {},
     "output_type": "execute_result"
    },
    {
     "data": {
      "image/png": "[encoded data removed]",
      "text/plain": [
       "<matplotlib.figure.Figure at 0x1a18f7a410>"
      ]
     },
     "metadata": {},
     "output_type": "display_data"
    }
   ],
   "source": [
    "# find the correlation between feature\n",
    "corr = churn_area.corr()\n",
    "sb.heatmap(corr)"
   ]
  },
  {
   "cell_type": "markdown",
   "metadata": {},
   "source": [
    "high correlation:\n",
    "* voice_mail_plan & number_vmail_messages\n",
    "* total_day_minutes & total_day_charge\n",
    "* total_eve_minutes & total_eve_charge\n",
    "* total_night_minutes & total_night_charge\n",
    "* total_intl_minutes & total_intl_charge"
   ]
  },
  {
   "cell_type": "markdown",
   "metadata": {},
   "source": [
    "# Part 2: Feature Preprocessing"
   ]
  },
  {
   "cell_type": "code",
   "execution_count": 9,
   "metadata": {
    "collapsed": true
   },
   "outputs": [],
   "source": [
    "# use one-hot-encoding to convert area_code \n",
    "churn_area[\"area_code\"]=churn_area[\"area_code\"].map(lambda x: str(x))\n",
    "churn_feat = churn_area.drop([\"churned\"], axis=1)\n",
    "churn_feat=pd.get_dummies(churn_feat)\n",
    "\n",
    "# convert data into np-array format\n",
    "y = np.where(churn_df['churned'] == 'True.',1,0)\n",
    "X = churn_feat.as_matrix().astype(np.float)"
   ]
  },
  {
   "cell_type": "code",
   "execution_count": 10,
   "metadata": {},
   "outputs": [
    {
     "name": "stdout",
     "output_type": "stream",
     "text": [
      "Feature space holds 5000 observations and 20 features\n",
      "Unique target labels: [0 1]\n"
     ]
    }
   ],
   "source": [
    "# Scale the data\n",
    "from sklearn.preprocessing import StandardScaler\n",
    "scaler = StandardScaler()\n",
    "X = scaler.fit_transform(X)\n",
    "\n",
    "print \"Feature space holds %d observations and %d features\" % X.shape\n",
    "print \"Unique target labels:\", np.unique(y)"
   ]
  },
  {
   "cell_type": "markdown",
   "metadata": {},
   "source": [
    "# Part 3: Model Training and Result Evaluation"
   ]
  },
  {
   "cell_type": "markdown",
   "metadata": {},
   "source": [
    "### Part 3.1: K-fold Cross-Validation and Learning Curve"
   ]
  },
  {
   "cell_type": "code",
   "execution_count": 11,
   "metadata": {
    "collapsed": true
   },
   "outputs": [],
   "source": [
    "from sklearn.model_selection import KFold\n",
    "from sklearn.model_selection import learning_curve\n",
    "\n",
    "#This program does 5-fold. It saves the result at each time as different parts of y_pred. \n",
    "#In the end, it returns the y_pred as the result of all the five 5-fold.\n",
    "def run_cv(X,y,clf_class,**kwargs):\n",
    "    # Construct a kfolds object\n",
    "    kf = KFold(n_splits=5,shuffle=True)\n",
    "    y_pred = y.copy()\n",
    "    clf = clf_class(**kwargs)\n",
    "    # Iterate through folds\n",
    "    for train_index, test_index in kf.split(X):\n",
    "        X_train, X_test = X[train_index], X[test_index]\n",
    "        y_train = y[train_index]\n",
    "        \n",
    "        clf.fit(X_train,y_train)\n",
    "        y_pred[test_index] = clf.predict(X_test)\n",
    "    return y_pred, clf\n",
    "\n",
    "# NumPy interpretes True and False as 1. and 0.\n",
    "def accuracy(y_true,y_pred):\n",
    "    return np.mean(y_true == y_pred)\n",
    "\n",
    "# plot learning curve\n",
    "def plot_learning_curve(estimator, title, X, y, ylim=None, cv=None,\n",
    "                        n_jobs=1, train_sizes=np.linspace(.1, 1.0, 5)):\n",
    "    plt.figure()\n",
    "    plt.title(title)\n",
    "    if ylim is not None:\n",
    "        plt.ylim(*ylim)\n",
    "    plt.xlabel(\"Training examples\")\n",
    "    plt.ylabel(\"Score\")\n",
    "    train_sizes, train_scores, test_scores = learning_curve(\n",
    "        estimator, X, y, cv=cv, n_jobs=n_jobs, train_sizes=train_sizes)\n",
    "    train_scores_mean = np.mean(train_scores, axis=1)\n",
    "    train_scores_std = np.std(train_scores, axis=1)\n",
    "    test_scores_mean = np.mean(test_scores, axis=1)\n",
    "    test_scores_std = np.std(test_scores, axis=1)\n",
    "    plt.grid()\n",
    "\n",
    "    plt.fill_between(train_sizes, train_scores_mean - train_scores_std,\n",
    "                     train_scores_mean + train_scores_std, alpha=0.1,\n",
    "                     color=\"r\")\n",
    "    plt.fill_between(train_sizes, test_scores_mean - test_scores_std,\n",
    "                     test_scores_mean + test_scores_std, alpha=0.1, color=\"g\")\n",
    "    plt.plot(train_sizes, train_scores_mean, 'o-', color=\"r\",\n",
    "             label=\"Training score\")\n",
    "    plt.plot(train_sizes, test_scores_mean, 'o-', color=\"g\",\n",
    "             label=\"Cross-validation score\")\n",
    "\n",
    "    plt.legend(loc=\"best\")\n",
    "    return plt\n",
    "\n"
   ]
  },
  {
   "cell_type": "markdown",
   "metadata": {},
   "source": [
    "### Part 3.2: Run Supervised Learning Models and Calculate Accuracy"
   ]
  },
  {
   "cell_type": "code",
   "execution_count": 12,
   "metadata": {},
   "outputs": [
    {
     "name": "stdout",
     "output_type": "stream",
     "text": [
      "Logistic Regression (L2 is default): 0.8648\n"
     ]
    },
    {
     "data": {
      "text/plain": [
       "<module 'matplotlib.pyplot' from '/Users/manxilu/Applications/anaconda2/lib/python2.7/site-packages/matplotlib/pyplot.pyc'>"
      ]
     },
     "execution_count": 12,
     "metadata": {},
     "output_type": "execute_result"
    },
    {
     "data": {
      "image/png": "[encoded data removed]",
      "text/plain": [
       "<matplotlib.figure.Figure at 0x1a19a6b4d0>"
      ]
     },
     "metadata": {},
     "output_type": "display_data"
    }
   ],
   "source": [
    "from sklearn.linear_model import LogisticRegression\n",
    "from sklearn.neighbors import KNeighborsClassifier\n",
    "from sklearn.ensemble import RandomForestClassifier\n",
    "\n",
    "LR_CV_result = run_cv(X,y,LogisticRegression)\n",
    "\n",
    "print \"Logistic Regression (L2 is default): \" + str(accuracy(y, LR_CV_result[0]))\n",
    "plot_learning_curve(LR_CV_result[1], \"Learning curves (Logistic Regression)\", X,y)"
   ]
  },
  {
   "cell_type": "code",
   "execution_count": 13,
   "metadata": {},
   "outputs": [
    {
     "name": "stdout",
     "output_type": "stream",
     "text": [
      "K-nearest-neighbors: 0.893\n"
     ]
    },
    {
     "data": {
      "text/plain": [
       "<module 'matplotlib.pyplot' from '/Users/manxilu/Applications/anaconda2/lib/python2.7/site-packages/matplotlib/pyplot.pyc'>"
      ]
     },
     "execution_count": 13,
     "metadata": {},
     "output_type": "execute_result"
    },
    {
     "data": {
      "image/png": "[encoded data removed]",
      "text/plain": [
       "<matplotlib.figure.Figure at 0x1a19cf1cd0>"
      ]
     },
     "metadata": {},
     "output_type": "display_data"
    }
   ],
   "source": [
    "KNN_CV_result = run_cv(X,y,KNeighborsClassifier) #Default: n_neighbors=5\n",
    "print \"K-nearest-neighbors: \" + str(accuracy(y, KNN_CV_result[0]))\n",
    "plot_learning_curve(KNN_CV_result[1], \"Learning curves (KNN)\", X,y)"
   ]
  },
  {
   "cell_type": "code",
   "execution_count": 14,
   "metadata": {},
   "outputs": [
    {
     "name": "stdout",
     "output_type": "stream",
     "text": [
      "Random forest: 0.946\n"
     ]
    },
    {
     "data": {
      "text/plain": [
       "<module 'matplotlib.pyplot' from '/Users/manxilu/Applications/anaconda2/lib/python2.7/site-packages/matplotlib/pyplot.pyc'>"
      ]
     },
     "execution_count": 14,
     "metadata": {},
     "output_type": "execute_result"
    },
    {
     "data": {
      "image/png": "[encoded data removed]",
      "text/plain": [
       "<matplotlib.figure.Figure at 0x1a19d1fed0>"
      ]
     },
     "metadata": {},
     "output_type": "display_data"
    }
   ],
   "source": [
    "RF_CV_result = run_cv(X,y,RandomForestClassifier)\n",
    "print \"Random forest: \" + str(accuracy(y, RF_CV_result[0]))\n",
    "plot_learning_curve(RF_CV_result[1], \"Learning curves (Random Forest)\", X,y)"
   ]
  },
  {
   "cell_type": "markdown",
   "metadata": {},
   "source": [
    "From the learning curve plots and accuracy scores for respective model:\n",
    "* The model is underfitted in Logistic Regression\n",
    "* The model is not well-behaved in KNN\n",
    "* The model is overfitted in Random Forest, we could continuously use this one to furthur tune the hyperprameters"
   ]
  },
  {
   "cell_type": "markdown",
   "metadata": {},
   "source": [
    "### Part 3.3: Use Grid Search to Find Optimal Parameters"
   ]
  },
  {
   "cell_type": "markdown",
   "metadata": {},
   "source": [
    "#### Part 3.3.1: Find Optimal Parameters - RandomForest"
   ]
  },
  {
   "cell_type": "code",
   "execution_count": 15,
   "metadata": {},
   "outputs": [
    {
     "name": "stderr",
     "output_type": "stream",
     "text": [
      "/Users/manxilu/Applications/anaconda2/lib/python2.7/site-packages/sklearn/cross_validation.py:41: DeprecationWarning: This module was deprecated in version 0.18 in favor of the model_selection module into which all the refactored classes and functions are moved. Also note that the interface of the new CV iterators are different from that of this module. This module will be removed in 0.20.\n",
      "  \"This module will be removed in 0.20.\", DeprecationWarning)\n",
      "/Users/manxilu/Applications/anaconda2/lib/python2.7/site-packages/sklearn/grid_search.py:42: DeprecationWarning: This module was deprecated in version 0.18 in favor of the model_selection module into which all the refactored classes and functions are moved. This module will be removed in 0.20.\n",
      "  DeprecationWarning)\n"
     ]
    },
    {
     "name": "stdout",
     "output_type": "stream",
     "text": [
      "Fitting 5 folds for each of 4 candidates, totalling 20 fits\n",
      "{'n_estimators': 300, 'bootstrap': True}\n"
     ]
    },
    {
     "name": "stderr",
     "output_type": "stream",
     "text": [
      "[Parallel(n_jobs=1)]: Done  20 out of  20 | elapsed:  1.3min finished\n"
     ]
    }
   ],
   "source": [
    "from sklearn.grid_search import GridSearchCV\n",
    "\n",
    "# Create the parameter grid based on the results of random search \n",
    "param_grid = {\n",
    "    'bootstrap': [True],\n",
    "    'n_estimators': [100, 200, 300, 1000]\n",
    "}\n",
    "\n",
    "Grid_RF = GridSearchCV(RandomForestClassifier(),param_grid, cv=5, verbose=1, refit=False)\n",
    "Grid_RF.fit(X, y)\n",
    "print Grid_RF.best_params_"
   ]
  },
  {
   "cell_type": "markdown",
   "metadata": {},
   "source": [
    "### Part 3.4: Calculate Confusion Matrix (Precision, Recall, Accuracy)"
   ]
  },
  {
   "cell_type": "code",
   "execution_count": 16,
   "metadata": {},
   "outputs": [
    {
     "name": "stdout",
     "output_type": "stream",
     "text": [
      "Random Forest\n",
      "Accuracy is 0.946\n",
      "Precision is 0.932673267327\n",
      "Recall is 0.666195190948\n"
     ]
    },
    {
     "data": {
      "image/png": "[encoded data removed]",
      "text/plain": [
       "<matplotlib.figure.Figure at 0x1a1a66ffd0>"
      ]
     },
     "metadata": {},
     "output_type": "display_data"
    },
    {
     "name": "stdout",
     "output_type": "stream",
     "text": [
      "(tn,fp,fn,tp)=  (4259, 34, 236, 471)\n"
     ]
    }
   ],
   "source": [
    "from sklearn.metrics import confusion_matrix\n",
    "from sklearn.metrics import precision_score\n",
    "from sklearn.metrics import recall_score\n",
    "\n",
    "def cal_evaluation(classifier, cm):\n",
    "    tn = cm[0][0]\n",
    "    fp = cm[0][1]\n",
    "    fn = cm[1][0]\n",
    "    tp = cm[1][1]\n",
    "    accuracy  = (tp + tn) / (tp + fp + fn + tn + 0.0)\n",
    "    precision = tp / (tp + fp + 0.0)\n",
    "    recall = tp / (tp + fn + 0.0)\n",
    "    print classifier\n",
    "    print \"Accuracy is \" + str(accuracy)\n",
    "    print \"Precision is \" + str(precision)\n",
    "    print \"Recall is \" + str(recall)\n",
    "\n",
    "def draw_confusion_matrices(confusion_matricies,class_names=[\"not\",\"churn\"]):\n",
    "    for cm in confusion_matricies:\n",
    "        classifier, cm = cm[0], cm[1]\n",
    "        cal_evaluation(classifier, cm)\n",
    "        fig = plt.figure()\n",
    "        ax = fig.add_subplot(111)\n",
    "        cax = ax.matshow(cm, interpolation='nearest',cmap=plt.get_cmap('Reds'))\n",
    "        plt.title('Confusion matrix for %s' % classifier)\n",
    "        fig.colorbar(cax)\n",
    "        ax.set_xticklabels([''] + class_names)\n",
    "        ax.set_yticklabels([''] + class_names)\n",
    "        plt.xlabel('Predicted')\n",
    "        plt.ylabel('True')\n",
    "        plt.show()\n",
    "\n",
    "cm=confusion_matrix(y, RF_CV_result[0])\n",
    "draw_confusion_matrices([(\"Random Forest\", cm)])\n",
    "print \"(tn,fp,fn,tp)= \", (cm[0][0],cm[0][1],cm[1][0],cm[1][1])"
   ]
  },
  {
   "cell_type": "markdown",
   "metadata": {},
   "source": [
    "# Part 4: Feature Selection"
   ]
  },
  {
   "cell_type": "markdown",
   "metadata": {},
   "source": [
    "### Random Forest Model - Feature Importance Discussion"
   ]
  },
  {
   "cell_type": "code",
   "execution_count": 17,
   "metadata": {},
   "outputs": [
    {
     "name": "stdout",
     "output_type": "stream",
     "text": [
      "Feature importance ranking by Random Forest Model:\n",
      "total_day_charge: 0.1852\n",
      "number_customer_service_calls: 0.1237\n",
      "total_day_minutes: 0.0997\n",
      "intl_plan: 0.0708\n",
      "total_eve_minutes: 0.0683\n",
      "total_eve_charge: 0.0554\n",
      "total_intl_calls: 0.0544\n",
      "total_intl_charge: 0.0426\n",
      "total_intl_minutes: 0.0421\n",
      "total_night_minutes: 0.0415\n",
      "total_night_charge: 0.0377\n",
      "total_day_calls: 0.035\n",
      "account_length: 0.0317\n",
      "total_night_calls: 0.0313\n",
      "total_eve_calls: 0.0266\n",
      "voice_mail_plan: 0.0228\n",
      "number_vmail_messages: 0.0176\n",
      "area_code_415: 0.006\n",
      "area_code_510: 0.0044\n",
      "area_code_408: 0.0032\n"
     ]
    }
   ],
   "source": [
    "importances = RF_CV_result[1].feature_importances_\n",
    "\n",
    "# Print the feature ranking\n",
    "print(\"Feature importance ranking by Random Forest Model:\")\n",
    "for k,v in sorted(zip(map(lambda x: round(x, 4), importances), churn_feat.columns), reverse=True):\n",
    "    print v + \": \" + str(k)"
   ]
  },
  {
   "cell_type": "markdown",
   "metadata": {},
   "source": [
    "The corelated features that we are interested in previous heat plot: \n",
    "* voice_mail_plan & number_vmail_messages\n",
    "* total_day_minutes & total_day_charge\n",
    "* total_eve_minutes & total_eve_charge\n",
    "* total_night_minutes & total_night_charge\n",
    "* total_intl_minutes & total_intl_charge\n",
    "\n",
    "From the above feature importance , the minutes & charge pairs have relative equaly weighting,\n",
    "and number_vmail_messages has slightly higher weighting than voice_mail_plan.\n",
    "So we decide to only drop the minutes in the pair and voice_mail_plan in feature data."
   ]
  },
  {
   "cell_type": "code",
   "execution_count": 46,
   "metadata": {},
   "outputs": [
    {
     "data": {
      "text/plain": [
       "<matplotlib.axes._subplots.AxesSubplot at 0x1a1b315590>"
      ]
     },
     "execution_count": 46,
     "metadata": {},
     "output_type": "execute_result"
    },
    {
     "data": {
      "image/png": "[encoded data removed]",
      "text/plain": [
       "<matplotlib.figure.Figure at 0x1a1b307990>"
      ]
     },
     "metadata": {},
     "output_type": "display_data"
    }
   ],
   "source": [
    "select_df=churn_feat.drop([\"total_day_minutes\",\n",
    "                          \"total_eve_minutes\",\"total_night_minutes\",\n",
    "                          \"total_intl_minutes\",\"voice_mail_plan\"],axis=1)\n",
    "corr_select = select_df.corr()\n",
    "sb.heatmap(corr_select)"
   ]
  },
  {
   "cell_type": "code",
   "execution_count": 47,
   "metadata": {},
   "outputs": [
    {
     "name": "stdout",
     "output_type": "stream",
     "text": [
      "Random forest: 0.9358\n",
      "Feature importance ranking by Random Forest Model:\n",
      "total_eve_charge: 0.1852\n",
      "total_day_charge: 0.0997\n",
      "intl_plan: 0.0708\n",
      "total_night_calls: 0.0683\n",
      "total_intl_calls: 0.0554\n",
      "area_code_510: 0.0544\n",
      "area_code_415: 0.0421\n",
      "total_intl_charge: 0.0415\n",
      "area_code_408: 0.0377\n",
      "total_eve_calls: 0.035\n",
      "account_length: 0.0317\n",
      "number_customer_service_calls: 0.0313\n",
      "total_night_charge: 0.0266\n",
      "number_vmail_messages: 0.0228\n",
      "total_day_calls: 0.0176\n"
     ]
    }
   ],
   "source": [
    "# convert data into np-array format\n",
    "X_select = select_df.as_matrix().astype(np.float)\n",
    "\n",
    "# Scale the data\n",
    "from sklearn.preprocessing import StandardScaler\n",
    "scaler = StandardScaler()\n",
    "X_select = scaler.fit_transform(X_select)\n",
    "\n",
    "RF_select_result = run_cv(X_select,y,RandomForestClassifier)\n",
    "print \"Random forest: \" + str(accuracy(y, RF_select_result[0]))\n",
    "\n",
    "importances_select = RF_select_result[1].feature_importances_\n",
    "\n",
    "# Print the feature ranking\n",
    "print(\"Feature importance ranking by Random Forest Model:\")\n",
    "for k,v in sorted(zip(map(lambda x: round(x, 4), importances), select_df.columns), reverse=True):\n",
    "    print v + \": \" + str(k)"
   ]
  },
  {
   "cell_type": "markdown",
   "metadata": {},
   "source": [
    "* Total_eve_charge has principle weighting and total_day_charge also rank 2rd \n",
    "    * Total charge is reasonable feature to affect user churn\n",
    "    * Contact marketing group to design better plan with affordable charge\n",
    "* International plan usage has high weighted for user churn\n",
    "    * Conduct more advertisement on international plan service\n",
    "    * Improve international telecommunication service (better communication quality, fast internet surffing etc.)\n",
    "* The people will become more churned from area coded in 510 than that in 415, 408\n",
    "    * Contact the customer service department from those areas especially in 510 to see if there exists terrible customer service that affect user experience\n",
    "    * If the service only covered in these three areas, it could a good chance to expand service to other places\n",
    "* "
   ]
  },
  {
   "cell_type": "markdown",
   "metadata": {},
   "source": [
    "# Part 5: Use Probabilities as Prediction Results"
   ]
  },
  {
   "cell_type": "markdown",
   "metadata": {},
   "source": [
    "RandomForestClassifier, KNeighborsClassifier and LogisticRegression have predict_prob() function "
   ]
  },
  {
   "cell_type": "code",
   "execution_count": 44,
   "metadata": {
    "collapsed": true
   },
   "outputs": [],
   "source": [
    "def run_prob_cv(X, y, clf_class, roc=False, **kwargs):\n",
    "    kf = KFold(n_splits=5, shuffle=True)\n",
    "    y_prob = np.zeros((len(y),2))\n",
    "    for train_index, test_index in kf.split(X):\n",
    "        X_train, X_test = X[train_index], X[test_index]\n",
    "        y_train = y[train_index]\n",
    "        clf = clf_class(**kwargs)\n",
    "        clf.fit(X_train,y_train)\n",
    "        # Predict probabilities, not classes\n",
    "        y_prob[test_index] = clf.predict_proba(X_test)\n",
    "    return y_prob"
   ]
  },
  {
   "cell_type": "markdown",
   "metadata": {},
   "source": [
    "Result Evaluation: Use the ground truth probability to compare with our probability prediction results."
   ]
  },
  {
   "cell_type": "code",
   "execution_count": 45,
   "metadata": {
    "collapsed": true
   },
   "outputs": [],
   "source": [
    "from collections import defaultdict\n",
    "true_prob = defaultdict(float)\n",
    "\n",
    "pred_prob = run_prob_cv(X, y, RandomForestClassifier, n_estimators=200)\n",
    "pred_churn = pred_prob[:,1]\n",
    "is_churn = (y == 1)\n",
    "\n",
    "counts = pd.value_counts(pred_churn)\n",
    "for prob in counts.index:\n",
    "    true_prob[prob] = np.mean(is_churn[pred_churn == prob])\n",
    "true_prob = pd.Series(true_prob)"
   ]
  },
  {
   "cell_type": "code",
   "execution_count": null,
   "metadata": {
    "collapsed": true
   },
   "outputs": [],
   "source": [
    "EvaResults = pd.concat([counts,true_prob], axis=1).reset_index()\n",
    "EvaResults.columns = ['pred_prob', 'count', 'true_prob']\n",
    "EvaResults"
   ]
  },
  {
   "cell_type": "markdown",
   "metadata": {
    "collapsed": true
   },
   "source": [
    "# Future work"
   ]
  },
  {
   "cell_type": "code",
   "execution_count": null,
   "metadata": {
    "collapsed": true
   },
   "outputs": [],
   "source": [
    "# plot partial dependency\n",
    "from sklearn.ensemble.partial_dependence import partial_dependence, plot_partial_dependence\n",
    "from sklearn.ensemble import GradientBoostingRegressor\n",
    "\n",
    "y_select=pd.DataFrame(y)\n",
    "clf_for_pplot=GradientBoostingRegressor()\n",
    "\n",
    "# fit the model as usual\n",
    "clf_for_pplot.fit(select_feat, y_select)\n",
    "\n",
    "# Here we make the plot\n",
    "partial_plots = plot_partial_dependence(clf_for_pplot,       \n",
    "                                   features=[2, 2,2], # column numbers of plots we want to show\n",
    "                                   X=select_feat,            # raw predictors data.\n",
    "                                   feature_names=['area_code_415', 'area_code_408',\"area_code_510\"], # labels on graphs\n",
    "                                   grid_resolution=8) # number of values to plot on x axis"
   ]
  }
 ],
 "metadata": {
  "kernelspec": {
   "display_name": "Python 2",
   "language": "python",
   "name": "python2"
  },
  "language_info": {
   "codemirror_mode": {
    "name": "ipython",
    "version": 2
   },
   "file_extension": ".py",
   "mimetype": "text/x-python",
   "name": "python",
   "nbconvert_exporter": "python",
   "pygments_lexer": "ipython2",
   "version": "2.7.14"
  }
 },
 "nbformat": 4,
 "nbformat_minor": 1
}
